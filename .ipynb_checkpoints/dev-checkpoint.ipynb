{
 "cells": [
  {
   "cell_type": "code",
   "execution_count": 1,
   "metadata": {},
   "outputs": [
    {
     "name": "stdout",
     "output_type": "stream",
     "text": [
      "pygame 1.9.6\n",
      "Hello from the pygame community. https://www.pygame.org/contribute.html\n"
     ]
    }
   ],
   "source": [
    "import math\n",
    "import pygame\n",
    "import os\n",
    "import chess\n",
    "import sys\n",
    "#import chessUI as C"
   ]
  },
  {
   "cell_type": "code",
   "execution_count": 2,
   "metadata": {},
   "outputs": [],
   "source": [
    "def index2pos(index):\n",
    "    return (index%8,math.floor(index/8)*8);\n",
    "\n",
    "def pos2index(pos):\n",
    "    return pos[0] + pos[1]*8;"
   ]
  },
  {
   "cell_type": "code",
   "execution_count": 3,
   "metadata": {},
   "outputs": [],
   "source": [
    "class pawn:\n",
    "    typ = None;\n",
    "    pos = (0,0);\n",
    "    team = -1;\n",
    "    spritesheet = (pygame.image.load(\"chesspieces.png\"),45);\n",
    "    spriteIndex = (5,6+5);\n",
    "    \n",
    "    def __init__(self,pos = (4,6),typ = 'p'):\n",
    "        self.pos = pos;\n",
    "        self.typ = typ;\n",
    "        if typ == 'p':\n",
    "            self.team = -1;\n",
    "        else: self.team = 0;\n",
    "    \n",
    "    def move_to(self,pos):\n",
    "        self.pos = pos;\n",
    "        \n",
    "    def render(self,display,box_size):\n",
    "        p = self;\n",
    "        s = self.spritesheet;\n",
    "        display.blit(s[0],(p.pos[0]*box_size + 9,p.pos[1]*box_size + 9),\n",
    "                     ((p.spriteIndex[p.team]%6)*s[1],\n",
    "                      math.floor(p.spriteIndex[p.team]/6)*s[1],\n",
    "                      s[1],s[1]));\n",
    "\n"
   ]
  },
  {
   "cell_type": "code",
   "execution_count": null,
   "metadata": {},
   "outputs": [],
   "source": []
  },
  {
   "cell_type": "code",
   "execution_count": null,
   "metadata": {},
   "outputs": [],
   "source": []
  },
  {
   "cell_type": "code",
   "execution_count": null,
   "metadata": {},
   "outputs": [],
   "source": []
  },
  {
   "cell_type": "code",
   "execution_count": 19,
   "metadata": {},
   "outputs": [],
   "source": [
    "class board:\n",
    "    board = [None for i in range(64)]; \n",
    "    box_size = 64;\n",
    "    background = pygame.image.load(\"bg3.gif\");\n",
    "    back = chess.Board()\n",
    "\n",
    "    def __init__(self):\n",
    "        pass\n",
    "    \n",
    "    def setup(self):\n",
    "        self.board[0] = pawn(pos = (0,0),typ = 'p');\n",
    "        \n",
    "    def setup_normal(self):\n",
    "        self.sync_with_backend()\n",
    "    \n",
    "    def get_piece_at(self,pos):\n",
    "        return self.board[pos2index(pos)];\n",
    "    \n",
    "    def move(self,pos1,pos2):\n",
    "        b1 = self.board[pos2index(pos1)];\n",
    "        b1.move_to(pos2)\n",
    "        self.board[pos2index(pos2)] = b1;\n",
    "        self.board[pos2index(pos1)] = None;\n",
    "    \n",
    "        \n",
    "    def render_all(self,display):\n",
    "        for item in self.board:\n",
    "            if item != None:\n",
    "                p = item\n",
    "                p.render(display,self.box_size);\n",
    "    \n",
    "    \n",
    "    def by_symbol(self):\n",
    "        result = {}\n",
    "        for i,item in enumerate(self.board):\n",
    "            if item != None:\n",
    "                result[i] = item.typ\n",
    "        return result\n",
    "    \n",
    "    def update_backend(self,verbose = False):\n",
    "        D = self.by_symbol()\n",
    "        new_dict = {}\n",
    "        for key, value in D.items():\n",
    "            new_dict[key] = chess.Piece.from_symbol(value)\n",
    "        self.back.set_piece_map(new_dict)\n",
    "        self.back.turn = not self.back.turn\n",
    "        \n",
    "        \n",
    "        if(verbose):\n",
    "            print()\n",
    "            print(self.back)\n",
    "            print(\"Turn: {}\".format(self.back.turn))\n",
    "            print()\n",
    "    \n",
    "    def get_legal_moves(self):\n",
    "        return(self.back.legal_moves)\n",
    "    \n",
    "    \n",
    "    \n",
    "    def sync_with_backend(self):\n",
    "        self.board = [None for i in range(64)];\n",
    "        new_dict = self.back.piece_map()\n",
    "        print(new_dict)\n",
    "        for key, value in new_dict.items():\n",
    "            self.board[key] = value.symbol();\n",
    "        \n",
    "    \n",
    "    \n",
    "    "
   ]
  },
  {
   "cell_type": "code",
   "execution_count": 20,
   "metadata": {},
   "outputs": [],
   "source": [
    "def main():\n",
    "    pygame.init()\n",
    "    pygame.display.list_modes()\n",
    "    \n",
    "\n",
    "    b = board()\n",
    "    \n",
    "    b.setup_normal()\n",
    "    \n",
    "    screenSize = 512,512;\n",
    "    box_size = screenSize[0]/8;\n",
    "    display = pygame.display.set_mode(screenSize);\n",
    "    pygame.display.set_caption(\"El sjakk\");\n",
    "    pygame.display.update()\n",
    "    \n",
    "    piece_in_hand = None;\n",
    "    \n",
    "    import sys\n",
    "    \n",
    "    Game = True;\n",
    "    \n",
    "    print(b.board)\n",
    "    \n",
    "    while Game:\n",
    "        mPos = pygame.mouse.get_pos();\n",
    "        \n",
    "        for evt in pygame.event.get():\n",
    "            if evt.type == pygame.QUIT:\n",
    "                pygame.quit()\n",
    "                sys.exit()\n",
    "                Game = False\n",
    "        \n",
    "        \n",
    "            if(evt.type == 5):\n",
    "                i1 = b.get_piece_at(pos = (int(mPos[0]/box_size),int(mPos[1]/box_size)));\n",
    "                if i1 != None:\n",
    "                    mOffset = (int(mPos[0]%45),int(mPos[1]%45));\n",
    "                    piece_in_hand = i1;\n",
    "\n",
    "            \n",
    "            if(evt.type == 6 and piece_in_hand != None):\n",
    "                b.move(piece_in_hand.pos,(int(mPos[0]/box_size),int(mPos[1]/box_size)));\n",
    "                b.update_backend()\n",
    "                b.back\n",
    "                piece_in_hand = None;\n",
    "            \n",
    "        \n",
    "        \n",
    "        \n",
    "        display.fill((0,0,0));\n",
    "        display.blit(b.background,(0,0),(0,0,512,512));\n",
    "        \n",
    "        b.render_all(display)\n",
    "        \n",
    "        pygame.display.update();\n",
    "        \n",
    "        \n",
    "    \n",
    "    \n",
    "    "
   ]
  },
  {
   "cell_type": "code",
   "execution_count": 21,
   "metadata": {},
   "outputs": [
    {
     "name": "stdout",
     "output_type": "stream",
     "text": [
      "{63: Piece.from_symbol('r'), 62: Piece.from_symbol('n'), 61: Piece.from_symbol('b'), 60: Piece.from_symbol('k'), 59: Piece.from_symbol('q'), 58: Piece.from_symbol('b'), 57: Piece.from_symbol('n'), 56: Piece.from_symbol('r'), 55: Piece.from_symbol('p'), 54: Piece.from_symbol('p'), 53: Piece.from_symbol('p'), 52: Piece.from_symbol('p'), 51: Piece.from_symbol('p'), 50: Piece.from_symbol('p'), 49: Piece.from_symbol('p'), 48: Piece.from_symbol('p'), 15: Piece.from_symbol('P'), 14: Piece.from_symbol('P'), 13: Piece.from_symbol('P'), 12: Piece.from_symbol('P'), 11: Piece.from_symbol('P'), 10: Piece.from_symbol('P'), 9: Piece.from_symbol('P'), 8: Piece.from_symbol('P'), 7: Piece.from_symbol('R'), 6: Piece.from_symbol('N'), 5: Piece.from_symbol('B'), 4: Piece.from_symbol('K'), 3: Piece.from_symbol('Q'), 2: Piece.from_symbol('B'), 1: Piece.from_symbol('N'), 0: Piece.from_symbol('R')}\n",
      "['R', 'N', 'B', 'Q', 'K', 'B', 'N', 'R', 'P', 'P', 'P', 'P', 'P', 'P', 'P', 'P', None, None, None, None, None, None, None, None, None, None, None, None, None, None, None, None, None, None, None, None, None, None, None, None, None, None, None, None, None, None, None, None, 'p', 'p', 'p', 'p', 'p', 'p', 'p', 'p', 'r', 'n', 'b', 'q', 'k', 'b', 'n', 'r']\n"
     ]
    },
    {
     "ename": "AttributeError",
     "evalue": "'str' object has no attribute 'render'",
     "output_type": "error",
     "traceback": [
      "\u001b[1;31m---------------------------------------------------------------------------\u001b[0m",
      "\u001b[1;31mAttributeError\u001b[0m                            Traceback (most recent call last)",
      "\u001b[1;32m<ipython-input-21-263240bbee7e>\u001b[0m in \u001b[0;36m<module>\u001b[1;34m\u001b[0m\n\u001b[1;32m----> 1\u001b[1;33m \u001b[0mmain\u001b[0m\u001b[1;33m(\u001b[0m\u001b[1;33m)\u001b[0m\u001b[1;33m\u001b[0m\u001b[1;33m\u001b[0m\u001b[0m\n\u001b[0m",
      "\u001b[1;32m<ipython-input-20-3643eacb42b8>\u001b[0m in \u001b[0;36mmain\u001b[1;34m()\u001b[0m\n\u001b[0;32m     51\u001b[0m         \u001b[0mdisplay\u001b[0m\u001b[1;33m.\u001b[0m\u001b[0mblit\u001b[0m\u001b[1;33m(\u001b[0m\u001b[0mb\u001b[0m\u001b[1;33m.\u001b[0m\u001b[0mbackground\u001b[0m\u001b[1;33m,\u001b[0m\u001b[1;33m(\u001b[0m\u001b[1;36m0\u001b[0m\u001b[1;33m,\u001b[0m\u001b[1;36m0\u001b[0m\u001b[1;33m)\u001b[0m\u001b[1;33m,\u001b[0m\u001b[1;33m(\u001b[0m\u001b[1;36m0\u001b[0m\u001b[1;33m,\u001b[0m\u001b[1;36m0\u001b[0m\u001b[1;33m,\u001b[0m\u001b[1;36m512\u001b[0m\u001b[1;33m,\u001b[0m\u001b[1;36m512\u001b[0m\u001b[1;33m)\u001b[0m\u001b[1;33m)\u001b[0m\u001b[1;33m;\u001b[0m\u001b[1;33m\u001b[0m\u001b[1;33m\u001b[0m\u001b[0m\n\u001b[0;32m     52\u001b[0m \u001b[1;33m\u001b[0m\u001b[0m\n\u001b[1;32m---> 53\u001b[1;33m         \u001b[0mb\u001b[0m\u001b[1;33m.\u001b[0m\u001b[0mrender_all\u001b[0m\u001b[1;33m(\u001b[0m\u001b[0mdisplay\u001b[0m\u001b[1;33m)\u001b[0m\u001b[1;33m\u001b[0m\u001b[1;33m\u001b[0m\u001b[0m\n\u001b[0m\u001b[0;32m     54\u001b[0m \u001b[1;33m\u001b[0m\u001b[0m\n\u001b[0;32m     55\u001b[0m         \u001b[0mpygame\u001b[0m\u001b[1;33m.\u001b[0m\u001b[0mdisplay\u001b[0m\u001b[1;33m.\u001b[0m\u001b[0mupdate\u001b[0m\u001b[1;33m(\u001b[0m\u001b[1;33m)\u001b[0m\u001b[1;33m;\u001b[0m\u001b[1;33m\u001b[0m\u001b[1;33m\u001b[0m\u001b[0m\n",
      "\u001b[1;32m<ipython-input-19-355188109ae6>\u001b[0m in \u001b[0;36mrender_all\u001b[1;34m(self, display)\u001b[0m\n\u001b[0;32m     28\u001b[0m             \u001b[1;32mif\u001b[0m \u001b[0mitem\u001b[0m \u001b[1;33m!=\u001b[0m \u001b[1;32mNone\u001b[0m\u001b[1;33m:\u001b[0m\u001b[1;33m\u001b[0m\u001b[1;33m\u001b[0m\u001b[0m\n\u001b[0;32m     29\u001b[0m                 \u001b[0mp\u001b[0m \u001b[1;33m=\u001b[0m \u001b[0mitem\u001b[0m\u001b[1;33m\u001b[0m\u001b[1;33m\u001b[0m\u001b[0m\n\u001b[1;32m---> 30\u001b[1;33m                 \u001b[0mp\u001b[0m\u001b[1;33m.\u001b[0m\u001b[0mrender\u001b[0m\u001b[1;33m(\u001b[0m\u001b[0mdisplay\u001b[0m\u001b[1;33m,\u001b[0m\u001b[0mself\u001b[0m\u001b[1;33m.\u001b[0m\u001b[0mbox_size\u001b[0m\u001b[1;33m)\u001b[0m\u001b[1;33m;\u001b[0m\u001b[1;33m\u001b[0m\u001b[1;33m\u001b[0m\u001b[0m\n\u001b[0m\u001b[0;32m     31\u001b[0m \u001b[1;33m\u001b[0m\u001b[0m\n\u001b[0;32m     32\u001b[0m \u001b[1;33m\u001b[0m\u001b[0m\n",
      "\u001b[1;31mAttributeError\u001b[0m: 'str' object has no attribute 'render'"
     ]
    }
   ],
   "source": [
    "main()"
   ]
  },
  {
   "cell_type": "code",
   "execution_count": null,
   "metadata": {},
   "outputs": [],
   "source": []
  },
  {
   "cell_type": "code",
   "execution_count": null,
   "metadata": {},
   "outputs": [],
   "source": []
  }
 ],
 "metadata": {
  "kernelspec": {
   "display_name": "Python 3",
   "language": "python",
   "name": "python3"
  },
  "language_info": {
   "codemirror_mode": {
    "name": "ipython",
    "version": 3
   },
   "file_extension": ".py",
   "mimetype": "text/x-python",
   "name": "python",
   "nbconvert_exporter": "python",
   "pygments_lexer": "ipython3",
   "version": "3.8.3"
  }
 },
 "nbformat": 4,
 "nbformat_minor": 4
}
